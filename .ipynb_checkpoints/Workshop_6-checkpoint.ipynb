{
 "cells": [
  {
   "cell_type": "markdown",
   "id": "92db6395-5d73-4c80-9220-2981981691a5",
   "metadata": {},
   "source": [
    "Hol Mundo"
   ]
  },
  {
   "cell_type": "code",
   "execution_count": null,
   "id": "ba9d88fd-243c-4785-8a91-a59aa53ed267",
   "metadata": {},
   "outputs": [],
   "source": []
  }
 ],
 "metadata": {
  "kernelspec": {
   "display_name": "Python 3 (ipykernel)",
   "language": "python",
   "name": "python3"
  },
  "language_info": {
   "codemirror_mode": {
    "name": "ipython",
    "version": 3
   },
   "file_extension": ".py",
   "mimetype": "text/x-python",
   "name": "python",
   "nbconvert_exporter": "python",
   "pygments_lexer": "ipython3",
   "version": "3.11.9"
  }
 },
 "nbformat": 4,
 "nbformat_minor": 5
}
